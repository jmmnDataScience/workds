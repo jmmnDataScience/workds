{
 "cells": [
  {
   "cell_type": "markdown",
   "metadata": {},
   "source": [
    "# CLASIFICADOR . LDR\n",
    "\n",
    "**AUTOR:** José Manuel Marín Noguera\n",
    "\n",
    "**Proyecto:** Clasificar diagnosticos clinicos\n",
    "\n",
    "**Enero 2016** \n",
    "\n",
    "## Objetivo\n",
    "   \n",
    "-Construir un clasificador de diagnosticos clinicos cie9 con tecnica LDR.\n",
    "\n",
    "### Tareas\n",
    "\n",
    "    CARGA.\n",
    "    PREPARACION.\n",
    "    VECTORIZA.\n",
    "    MODELO.\n",
    "    EVALUACION.\n",
    "    PREDICCION.\n",
    "    INTEGRACION.\n",
    "    \n",
    "--Nos apoyamos en pandas  y sus data frame para la tarea de preparacion ejemplos.\n",
    "\n",
    "--Nos apoyamos en sklearn para vectorizar textos, modelizar.\n",
    "_______________________________________________________________________________________________________________________\n",
    "\n",
    "##  INICIO"
   ]
  },
  {
   "cell_type": "code",
   "execution_count": 1,
   "metadata": {},
   "outputs": [],
   "source": [
    "# -*- coding: utf-8 -*-\n",
    "#importar la libreria NLTK para manejo de texto en python\n",
    "from nltk.tokenize import sent_tokenize\n",
    "from nltk.tokenize import word_tokenize\n",
    "from nltk.stem.porter import PorterStemmer\n",
    "from nltk.stem import SnowballStemmer\n",
    "from nltk.corpus import stopwords\n",
    "from nltk import FreqDist\n",
    "\n",
    "from string import punctuation #Importar simbolos puntuacion del ingles\n",
    "import unicodedata #Para quitar tildes\n",
    "\n",
    "#Importar lo las funciones, clases y algoritmos que utilizaremos de Scikit-Learn\n",
    "from sklearn.feature_extraction.text import TfidfVectorizer, CountVectorizer, TfidfTransformer\n",
    "from sklearn.linear_model import SGDClassifier\n",
    "from sklearn.svm import SVC\n",
    "from sklearn.naive_bayes import MultinomialNB,GaussianNB\n",
    "from sklearn.decomposition import TruncatedSVD\n",
    "from sklearn.preprocessing import StandardScaler, LabelEncoder,normalize\n",
    "from sklearn.model_selection import StratifiedShuffleSplit,KFold,cross_val_score,cross_val_predict,train_test_split\n",
    "#from sklearn import decomposition, pipeline, metrics, grid_search\n",
    "from sklearn.externals import joblib\n",
    "from sklearn import metrics\n",
    "from sklearn.utils import shuffle\n",
    "from sklearn.pipeline import make_pipeline,Pipeline\n",
    "from sklearn.ensemble import RandomForestClassifier\n",
    "from sklearn.model_selection import GridSearchCV\n",
    "\n",
    "#import gensim \n",
    "#from gensim.models import word2vec, Phrases ,doc2vec\n",
    "from gensim.models import doc2vec\n",
    "from gensim.models.doc2vec import TaggedDocument,LabeledSentence\n",
    "\n",
    "#Importar la libreria PANDAS para el manejo de datos\n",
    "import pandas as pd\n",
    "pd.set_option('max_colwidth',1000)#Para que los textos se vean enteros\n",
    "\n",
    "from scipy.sparse import hstack #Importar la funcion de matriz no densa de scipy\n",
    "\n",
    "import numpy as np #Importar para trabajar con matrizes que utiliza el pandas.\n",
    "\n",
    "#Importar la libreria para manipulacion de XML\n",
    "import xml.etree.ElementTree as ET\n",
    "\n",
    "#Importar el modulo de expresiones regulares y de strings\n",
    "import re\n",
    "import string\n",
    "\n",
    "#Importar para sacar tiempos\n",
    "import time\n",
    "import datetime\n",
    "\n",
    "import gc #Para gestionar la memoria\n",
    "\n",
    "import logging #Importar gestion de logs.\n",
    "\n",
    "import os # Import para intereacion con el sistema\n",
    "\n",
    "#Importar para visualizar\n",
    "import seaborn as sns\n",
    "import matplotlib.pyplot as plt\n",
    "%matplotlib inline\n",
    "plt.style.use('ggplot')"
   ]
  },
  {
   "cell_type": "markdown",
   "metadata": {
    "collapsed": true
   },
   "source": [
    "### Resultados Estudios"
   ]
  },
  {
   "cell_type": "code",
   "execution_count": 2,
   "metadata": {
    "collapsed": true
   },
   "outputs": [],
   "source": [
    "#Exploracion\n",
    "def add_estudio(dx,dfx):\n",
    "    dfl = pd.DataFrame([dx])\n",
    "    dfx = dfx.append(dfl, ignore_index=True)         \n",
    "    return dfx\n",
    "#columnas=columnas\n",
    "columnas = ['estudio','fecha','clasificador', 'version'\n",
    "            ,'dataset', 'ejemplos', 'clases','palabras','vocablos'\n",
    "            ,'vector', 'vparameros', 'vtiempo'\n",
    "            ,'corte','sejemplos', 'sclases', 'sfeatures'  \n",
    "            ,'modelo', 'mparametros','evaluacion','etipo', 'accuracy','top_prob']\n",
    "df_estudio = pd.DataFrame(columns=columnas) \n",
    "d_estudio = {'clasificador' : 'idc.ml.ldr'\n",
    "              , 'version': 'v1.0.0'\n",
    "              , 'estudio': 'clasificadores'\n",
    "              , 'fecha': datetime.datetime.now().date()\n",
    "              }\n",
    "#d_estudio.update ({'accuracy': 0.95})\n",
    "#df_estudio=add_estudio(d_estudio,df_estudio)# Grabar despoes de nuevo dato\n"
   ]
  },
  {
   "cell_type": "markdown",
   "metadata": {},
   "source": [
    "## OBTENER DATOS\n",
    "### Carga"
   ]
  },
  {
   "cell_type": "code",
   "execution_count": 3,
   "metadata": {},
   "outputs": [],
   "source": [
    "# Mecanismo de log\n",
    "logging.basicConfig(format='%(asctime)s : %(levelname)s : %(message)s', level=logging.INFO)"
   ]
  },
  {
   "cell_type": "code",
   "execution_count": 4,
   "metadata": {
    "collapsed": true
   },
   "outputs": [],
   "source": [
    "# Ficheros\n",
    "fichero_cat = 'CIE9_1.csv'\n",
    "fichero_dat = 'MIR_2009-distutf8.csv'"
   ]
  },
  {
   "cell_type": "code",
   "execution_count": 5,
   "metadata": {},
   "outputs": [
    {
     "data": {
      "text/html": [
       "<div>\n",
       "<table border=\"1\" class=\"dataframe\">\n",
       "  <thead>\n",
       "    <tr style=\"text-align: right;\">\n",
       "      <th></th>\n",
       "      <th>clase</th>\n",
       "      <th>texto</th>\n",
       "    </tr>\n",
       "  </thead>\n",
       "  <tbody>\n",
       "    <tr>\n",
       "      <th>0</th>\n",
       "      <td>001</td>\n",
       "      <td>COLERA</td>\n",
       "    </tr>\n",
       "    <tr>\n",
       "      <th>1</th>\n",
       "      <td>001.0</td>\n",
       "      <td>COLERA DEBIDA A VIBRIO CHOLERAE</td>\n",
       "    </tr>\n",
       "    <tr>\n",
       "      <th>2</th>\n",
       "      <td>001.1</td>\n",
       "      <td>COLERA DEBIDA A VIBRIO CHOLERAE EL TOR</td>\n",
       "    </tr>\n",
       "    <tr>\n",
       "      <th>3</th>\n",
       "      <td>001.9</td>\n",
       "      <td>COLERA, SIN ESPECIFICAR</td>\n",
       "    </tr>\n",
       "    <tr>\n",
       "      <th>4</th>\n",
       "      <td>002</td>\n",
       "      <td>FIEBRES TIFOIDEAS Y PARATIFOIDEAS</td>\n",
       "    </tr>\n",
       "  </tbody>\n",
       "</table>\n",
       "</div>"
      ],
      "text/plain": [
       "   clase                                   texto\n",
       "0    001                                  COLERA\n",
       "1  001.0         COLERA DEBIDA A VIBRIO CHOLERAE\n",
       "2  001.1  COLERA DEBIDA A VIBRIO CHOLERAE EL TOR\n",
       "3  001.9                 COLERA, SIN ESPECIFICAR\n",
       "4    002       FIEBRES TIFOIDEAS Y PARATIFOIDEAS"
      ]
     },
     "execution_count": 5,
     "metadata": {},
     "output_type": "execute_result"
    }
   ],
   "source": [
    "# Catalogo de estudios previos\n",
    "df_cat = pd.read_csv(fichero_cat, encoding='utf-8', sep='\\t', index_col=False, header=None,names=['clase','texto'])\n",
    "df_cat.head()"
   ]
  },
  {
   "cell_type": "code",
   "execution_count": 6,
   "metadata": {},
   "outputs": [
    {
     "data": {
      "text/html": [
       "<div>\n",
       "<table border=\"1\" class=\"dataframe\">\n",
       "  <thead>\n",
       "    <tr style=\"text-align: right;\">\n",
       "      <th></th>\n",
       "      <th>clase</th>\n",
       "      <th>texto</th>\n",
       "    </tr>\n",
       "  </thead>\n",
       "  <tbody>\n",
       "    <tr>\n",
       "      <th>0</th>\n",
       "      <td>3</td>\n",
       "      <td>GEA POR SALMONELLA</td>\n",
       "    </tr>\n",
       "    <tr>\n",
       "      <th>1</th>\n",
       "      <td>3</td>\n",
       "      <td>GEA SEVERA CON PRODUCTOS PATOLOGICOS</td>\n",
       "    </tr>\n",
       "    <tr>\n",
       "      <th>2</th>\n",
       "      <td>3</td>\n",
       "      <td>- GASTROENTERITIS AGUDA POR SALMONELLA SP</td>\n",
       "    </tr>\n",
       "    <tr>\n",
       "      <th>3</th>\n",
       "      <td>4.9</td>\n",
       "      <td>DIARREA ETIOLOGIA INFECCIOSA.PROBABLE VIH</td>\n",
       "    </tr>\n",
       "    <tr>\n",
       "      <th>4</th>\n",
       "      <td>5.9</td>\n",
       "      <td>VOMITOS. DESHIDRATACION LEVE. BRONCOESPASMO. INSUF. SUPRARRENAL.</td>\n",
       "    </tr>\n",
       "  </tbody>\n",
       "</table>\n",
       "</div>"
      ],
      "text/plain": [
       "  clase                                                              texto\n",
       "0     3                                                 GEA POR SALMONELLA\n",
       "1     3                               GEA SEVERA CON PRODUCTOS PATOLOGICOS\n",
       "2     3                          - GASTROENTERITIS AGUDA POR SALMONELLA SP\n",
       "3   4.9                          DIARREA ETIOLOGIA INFECCIOSA.PROBABLE VIH\n",
       "4   5.9   VOMITOS. DESHIDRATACION LEVE. BRONCOESPASMO. INSUF. SUPRARRENAL."
      ]
     },
     "execution_count": 6,
     "metadata": {},
     "output_type": "execute_result"
    }
   ],
   "source": [
    "# Juego de datos para el estudio\n",
    "df = pd.read_csv(fichero_dat, encoding='utf-8', header=0,infer_datetime_format=True)\n",
    "#Cambiamos nombres de columnas\n",
    "df=df.rename(columns = {'cie9':'clase'})\n",
    "df=df.rename(columns = {'diag textual':'texto'})\n",
    "#Quitamos lo que no son diagnosticos\n",
    "df = df.query('clase != \"V53.31\"')\n",
    "df = df.query('clase != \"V54.01\"')\n",
    "#Quitamos los que no tienen texto\n",
    "df=df.dropna(subset=['texto'])\n",
    "#Se decide no trabajar solo con los textos se eliminan las colunas sexo y fechanac\n",
    "df = df.drop('sexo',axis = 1)\n",
    "df = df.drop('fechanac',axis = 1)\n",
    "df.head()"
   ]
  },
  {
   "cell_type": "code",
   "execution_count": 7,
   "metadata": {},
   "outputs": [
    {
     "data": {
      "text/html": [
       "<div>\n",
       "<table border=\"1\" class=\"dataframe\">\n",
       "  <thead>\n",
       "    <tr style=\"text-align: right;\">\n",
       "      <th></th>\n",
       "      <th>clase</th>\n",
       "      <th>texto</th>\n",
       "    </tr>\n",
       "  </thead>\n",
       "  <tbody>\n",
       "    <tr>\n",
       "      <th>3</th>\n",
       "      <td>001</td>\n",
       "      <td>COLERA</td>\n",
       "    </tr>\n",
       "    <tr>\n",
       "      <th>4</th>\n",
       "      <td>001.0</td>\n",
       "      <td>COLERA.POR VIBRIO CHOLERAE</td>\n",
       "    </tr>\n",
       "    <tr>\n",
       "      <th>5</th>\n",
       "      <td>001.1</td>\n",
       "      <td>COLERA.POR VIBRIO CHOLERAE EL TOR</td>\n",
       "    </tr>\n",
       "    <tr>\n",
       "      <th>6</th>\n",
       "      <td>001.9</td>\n",
       "      <td>COLERA.NEOM</td>\n",
       "    </tr>\n",
       "    <tr>\n",
       "      <th>7</th>\n",
       "      <td>002</td>\n",
       "      <td>FIEBRE TIFOIDEA Y PARATIFOIDEA</td>\n",
       "    </tr>\n",
       "  </tbody>\n",
       "</table>\n",
       "</div>"
      ],
      "text/plain": [
       "   clase                              texto\n",
       "3    001                             COLERA\n",
       "4  001.0         COLERA.POR VIBRIO CHOLERAE\n",
       "5  001.1  COLERA.POR VIBRIO CHOLERAE EL TOR\n",
       "6  001.9                        COLERA.NEOM\n",
       "7    002     FIEBRE TIFOIDEA Y PARATIFOIDEA"
      ]
     },
     "execution_count": 7,
     "metadata": {},
     "output_type": "execute_result"
    }
   ],
   "source": [
    "# Un catalogo diferente en textos del CIE.9\n",
    "df_cie9 = pd.read_csv('CIE9MC.csv', encoding='utf-8', sep=',', index_col=False, )\n",
    "df_cie9 = df_cie9.rename(columns = {'Id9':'clase'})\n",
    "df_cie9 = df_cie9.rename(columns = {'Desc9':'texto'})\n",
    "df_cie9 = df_cie9.drop('IdRel',axis = 1)\n",
    "df_cie9 = df_cie9.drop('sdfd',axis = 1)\n",
    "#Por si queremos trabajar con los titulos de los capitulos\n",
    "#df_cie9_cap = df_cie9[df_cie9['clase'].isnull()]\n",
    "df_cie9 = df_cie9[df_cie9.index<14504]#Quita capitulos 20 y 21\n",
    "df_cie9 = df_cie9[df_cie9['clase'].notnull()]\n",
    "df_cie9.head()"
   ]
  },
  {
   "cell_type": "markdown",
   "metadata": {},
   "source": [
    "### Descripcion datos"
   ]
  },
  {
   "cell_type": "code",
   "execution_count": 8,
   "metadata": {},
   "outputs": [
    {
     "name": "stdout",
     "output_type": "stream",
     "text": [
      "<class 'pandas.core.frame.DataFrame'>\n",
      "Int64Index: 2940 entries, 0 to 2950\n",
      "Data columns (total 2 columns):\n",
      "clase    2940 non-null object\n",
      "texto    2940 non-null object\n",
      "dtypes: object(2)\n",
      "memory usage: 68.9+ KB\n"
     ]
    }
   ],
   "source": [
    "df.info()"
   ]
  },
  {
   "cell_type": "code",
   "execution_count": 9,
   "metadata": {},
   "outputs": [
    {
     "data": {
      "text/html": [
       "<div>\n",
       "<table border=\"1\" class=\"dataframe\">\n",
       "  <thead>\n",
       "    <tr style=\"text-align: right;\">\n",
       "      <th></th>\n",
       "      <th>clase</th>\n",
       "      <th>texto</th>\n",
       "    </tr>\n",
       "  </thead>\n",
       "  <tbody>\n",
       "    <tr>\n",
       "      <th>count</th>\n",
       "      <td>2940</td>\n",
       "      <td>2940</td>\n",
       "    </tr>\n",
       "    <tr>\n",
       "      <th>unique</th>\n",
       "      <td>547</td>\n",
       "      <td>2601</td>\n",
       "    </tr>\n",
       "    <tr>\n",
       "      <th>top</th>\n",
       "      <td>428</td>\n",
       "      <td>INSUFICIENCIA CARDIACA CONGESTIVA</td>\n",
       "    </tr>\n",
       "    <tr>\n",
       "      <th>freq</th>\n",
       "      <td>222</td>\n",
       "      <td>14</td>\n",
       "    </tr>\n",
       "  </tbody>\n",
       "</table>\n",
       "</div>"
      ],
      "text/plain": [
       "       clase                              texto\n",
       "count   2940                               2940\n",
       "unique   547                               2601\n",
       "top      428  INSUFICIENCIA CARDIACA CONGESTIVA\n",
       "freq     222                                 14"
      ]
     },
     "execution_count": 9,
     "metadata": {},
     "output_type": "execute_result"
    }
   ],
   "source": [
    "df.describe(include=['O'])"
   ]
  },
  {
   "cell_type": "code",
   "execution_count": 10,
   "metadata": {},
   "outputs": [
    {
     "name": "stdout",
     "output_type": "stream",
     "text": [
      "Catalogo CIE9 Version 1 Nº de registros 14733\n",
      "Catalogo CIE9 Version 2 Nº de registros 14376\n"
     ]
    }
   ],
   "source": [
    "#catalogos\n",
    "print ('Catalogo CIE9 Version 1 Nº de registros',df_cat.shape[0])\n",
    "print ('Catalogo CIE9 Version 2 Nº de registros',df_cie9.shape[0])"
   ]
  },
  {
   "cell_type": "code",
   "execution_count": 11,
   "metadata": {
    "collapsed": true
   },
   "outputs": [],
   "source": [
    "#DATOS GUARDAR ESTUDIO\n",
    "d_estudio.update ({'dataset': fichero_dat})\n",
    "d_estudio.update ({'ejemplos': df.shape[0]})\n",
    "d_estudio.update ({'clases': len(df.clase.unique())})"
   ]
  },
  {
   "cell_type": "code",
   "execution_count": 12,
   "metadata": {},
   "outputs": [],
   "source": [
    "#df_cat.describe(include=['O'])"
   ]
  },
  {
   "cell_type": "markdown",
   "metadata": {},
   "source": [
    "## PROCESADO DOCUMENTOS\n",
    "### Tokenizado "
   ]
  },
  {
   "cell_type": "code",
   "execution_count": 13,
   "metadata": {
    "collapsed": true
   },
   "outputs": [],
   "source": [
    "#  Funciones para adecuacion de los tokenizadores \n",
    "non_words = list(punctuation)\n",
    "#Añadimos  punctuation castellano + letras sueltas + numeros\n",
    "non_words.extend(['¿', '¡','...','..','<br />','<t />'])\n",
    "non_words.extend(['a','b','c','d','e','f','g','h','i','j','k','l','m','n','ñ','o','p','q','r','s','t','u','v','w','x','y','z'])\n",
    "#non_words.extend(map(str,range(10000)))\n",
    "non_words.extend(['de', 'por','con','en','la','1.'])\n",
    "spanish_stopwords = stopwords.words('spanish')\n",
    "non_words.extend(spanish_stopwords)\n",
    "def my_tokenize(text):\n",
    "    text = text.lower()\n",
    "    text = ''.join((c for c in unicodedata.normalize('NFD',text) if unicodedata.category(c) != 'Mn'))\n",
    "    #tk = text.split()\n",
    "    tk = word_tokenize(text,language='spanish')\n",
    "    tk = [c for c in tk if c not in non_words] # Quitamos non_words\n",
    "    return tk   \n",
    "\n",
    "#Exploracion\n",
    "def acumula_fdist(dfx):\n",
    "    docs=dfx.tolist()\n",
    "    docs=[item for sublist in docs for item in sublist]\n",
    "    fdist=FreqDist(docs)\n",
    "    return fdist"
   ]
  },
  {
   "cell_type": "markdown",
   "metadata": {},
   "source": [
    "### Preproceso para vectorizar"
   ]
  },
  {
   "cell_type": "code",
   "execution_count": 14,
   "metadata": {},
   "outputs": [],
   "source": [
    "# Contar terminos totales por ejemplo\n",
    "def total_terminos(df_ejemplos):\n",
    "    df_ejemplos['words'] = df_ejemplos.texto.map(my_tokenize)\n",
    "    df_ejemplos['Td'] = df_ejemplos['words'].apply(len)\n",
    "    return df_ejemplos"
   ]
  },
  {
   "cell_type": "code",
   "execution_count": 15,
   "metadata": {},
   "outputs": [
    {
     "data": {
      "text/html": [
       "<div>\n",
       "<table border=\"1\" class=\"dataframe\">\n",
       "  <thead>\n",
       "    <tr style=\"text-align: right;\">\n",
       "      <th></th>\n",
       "      <th>clase</th>\n",
       "      <th>texto</th>\n",
       "      <th>words</th>\n",
       "      <th>Td</th>\n",
       "    </tr>\n",
       "  </thead>\n",
       "  <tbody>\n",
       "    <tr>\n",
       "      <th>2347</th>\n",
       "      <td>577.8</td>\n",
       "      <td>ITU.SEPSIS</td>\n",
       "      <td>[itu.sepsis]</td>\n",
       "      <td>1</td>\n",
       "    </tr>\n",
       "    <tr>\n",
       "      <th>2618</th>\n",
       "      <td>707.03</td>\n",
       "      <td>ULCERA DECUBITO. AC X FA.</td>\n",
       "      <td>[ulcera, decubito, ac, fa]</td>\n",
       "      <td>4</td>\n",
       "    </tr>\n",
       "    <tr>\n",
       "      <th>1059</th>\n",
       "      <td>453.41</td>\n",
       "      <td>TVP FEMORAL MID</td>\n",
       "      <td>[tvp, femoral, mid]</td>\n",
       "      <td>3</td>\n",
       "    </tr>\n",
       "    <tr>\n",
       "      <th>1224</th>\n",
       "      <td>481</td>\n",
       "      <td>BRONQUIECTASIAS RESPIRATORIAS POR S PNEUMONIAE</td>\n",
       "      <td>[bronquiectasias, respiratorias, pneumoniae]</td>\n",
       "      <td>3</td>\n",
       "    </tr>\n",
       "    <tr>\n",
       "      <th>2257</th>\n",
       "      <td>558.9</td>\n",
       "      <td>1-GASTROENTERITIS AGUDA LIMITADA</td>\n",
       "      <td>[1-gastroenteritis, aguda, limitada]</td>\n",
       "      <td>3</td>\n",
       "    </tr>\n",
       "  </tbody>\n",
       "</table>\n",
       "</div>"
      ],
      "text/plain": [
       "       clase                                           texto  \\\n",
       "2347   577.8                                      ITU.SEPSIS   \n",
       "2618  707.03                       ULCERA DECUBITO. AC X FA.   \n",
       "1059  453.41                                 TVP FEMORAL MID   \n",
       "1224     481  BRONQUIECTASIAS RESPIRATORIAS POR S PNEUMONIAE   \n",
       "2257   558.9                1-GASTROENTERITIS AGUDA LIMITADA   \n",
       "\n",
       "                                             words  Td  \n",
       "2347                                  [itu.sepsis]   1  \n",
       "2618                    [ulcera, decubito, ac, fa]   4  \n",
       "1059                           [tvp, femoral, mid]   3  \n",
       "1224  [bronquiectasias, respiratorias, pneumoniae]   3  \n",
       "2257          [1-gastroenteritis, aguda, limitada]   3  "
      ]
     },
     "execution_count": 15,
     "metadata": {},
     "output_type": "execute_result"
    }
   ],
   "source": [
    "# Añadimos caracteristicas necesarias\n",
    "corpus_textos_cat = df_cat.copy()\n",
    "corpus_textos_df = df.copy()\n",
    "corpus_textos_cie9 = df_cie9.copy()\n",
    "\n",
    "corpus_textos_df = total_terminos(corpus_textos_df)\n",
    "corpus_textos_cat = total_terminos(corpus_textos_cat)\n",
    "corpus_textos_cie9 = total_terminos(corpus_textos_cie9)\n",
    "\n",
    "shuffle(corpus_textos_df).head()"
   ]
  },
  {
   "cell_type": "code",
   "execution_count": 18,
   "metadata": {},
   "outputs": [
    {
     "name": "stdout",
     "output_type": "stream",
     "text": [
      "Longitud media de frase: 4.62 (+/- 5.45)\n",
      "\n",
      "Nº de palabras del corpus 13597\n",
      "Nº de palabras del vocabulario 2713\n"
     ]
    },
    {
     "data": {
      "image/png": "[encoded data removed]",
      "text/plain": [
       "<matplotlib.figure.Figure at 0x7f066247d390>"
      ]
     },
     "metadata": {},
     "output_type": "display_data"
    }
   ],
   "source": [
    "#np.mean(len(corpus_textos_df.labs))\n",
    "print(\"Longitud media de frase: %0.2f (+/- %0.2f)\\n\" % (np.mean(corpus_textos_df['words'].apply(len))\n",
    "                                                , np.std(corpus_textos_df['words'].apply(len)) * 2))\n",
    "fdist = acumula_fdist(corpus_textos_df.words)\n",
    "print ('Nº de palabras del corpus',fdist.N())\n",
    "print ('Nº de palabras del vocabulario',len(fdist.keys()))\n",
    "fdist.plot(30)"
   ]
  },
  {
   "cell_type": "code",
   "execution_count": 19,
   "metadata": {
    "collapsed": true
   },
   "outputs": [],
   "source": [
    "#DATOS GUARDAR ESTUDIO\n",
    "d_estudio.update ({'palabras': fdist.N()})\n",
    "d_estudio.update ({'vocablos': len(fdist.keys())})"
   ]
  },
  {
   "cell_type": "markdown",
   "metadata": {},
   "source": [
    "### Transformacion LDR"
   ]
  },
  {
   "cell_type": "code",
   "execution_count": 74,
   "metadata": {
    "collapsed": true
   },
   "outputs": [],
   "source": [
    "#Funcion que tranforma al vector de caracteristicas por clase Fci(W)\n",
    "def Vcc(vec,i,v_Td):\n",
    "    r=np.zeros(6)\n",
    "    r[0]=np.mean(vec) # Media\n",
    "    r[1]=np.std(vec) # Desviacion tipica\n",
    "    r[2]=np.min(vec) # Minimo\n",
    "    r[3]=np.max(vec) # Minimo\n",
    "    r[4]=np.mean(vec)/v_Td[i] # Prob\n",
    "    r[5]=np.sum(len(vec))/v_Td[i] # Prop\n",
    "    return r\n",
    "#Definimos el numero de caracteristicas\n",
    "num_medidas = 6"
   ]
  },
  {
   "cell_type": "code",
   "execution_count": 75,
   "metadata": {
    "collapsed": true
   },
   "outputs": [],
   "source": [
    "# Funcion Vector LDR\n",
    "def transform_ldr(a_tfidf,a_wtc,v_Td):\n",
    "    #Matriz con los terminos del vocabulario por documento\n",
    "    a_vocablos= a_tfidf>0\n",
    "    #Inicializamos un matriza vacia.\n",
    "    a_ldr = np.zeros((a_vocablos.shape[0],num_medidas*a_wtc.shape[0]))\n",
    "    for index,v_vocablos in enumerate(a_vocablos):\n",
    "        if np.any(v_vocablos):\n",
    "            v = np.empty(0) \n",
    "            for v_wtc in a_wtc:\n",
    "                v =np.hstack((v,Vcc(v_wtc[v_vocablos],index,v_Td)))          \n",
    "        else:\n",
    "            v = np.zeros(num_medidas*a_wtc.shape[0])   \n",
    "        a_ldr[index]=v\n",
    "    return a_ldr"
   ]
  },
  {
   "cell_type": "code",
   "execution_count": 126,
   "metadata": {},
   "outputs": [],
   "source": [
    "# Funcion Transforma LDR\n",
    "def fit_transform_ldr(dfx,a_tfidf):\n",
    "    Wtc = Wtc_ldr(dfx,a_tfidf)# Calculo de la matriz de pesos W(t,c)\n",
    "    X_vec = transform_ldr(a_tfidf ,Wtc ,dfx.Td.values )# Vectoriza(reduce dimensionalidad) con LDR\n",
    "    return X_vec,Wtc"
   ]
  },
  {
   "cell_type": "code",
   "execution_count": 128,
   "metadata": {},
   "outputs": [],
   "source": [
    "# Funcion Transforma LDR\n",
    "le = LabelEncoder()\n",
    "def Wtc_ldr(dfx,a_tfidf):       \n",
    "    l_clases = le.fit_transform(dfx.clase)\n",
    "    Y_clases = le.transform(dfx.clase)\n",
    "    def Wtermino(a):\n",
    "        return np.bincount(Y_clases,  weights=a)/np.sum(a)\n",
    "    Wtc = np.apply_along_axis(Wtermino, 0, a_tfidf)#Matriz con los pesos Wtc por termino.\n",
    "    return Wtc"
   ]
  },
  {
   "cell_type": "code",
   "execution_count": 21,
   "metadata": {
    "collapsed": true
   },
   "outputs": [],
   "source": [
    "#DATOS GUARDAR ESTUDIO\n",
    "d_estudio.update ({'vector': 'ldr'})\n",
    "d_estudio.update ({'vparameros': 'word,binary,min_df=1,my_tokenize'})\n",
    "d_estudio.update ({'vtiempo': 0 })                               "
   ]
  },
  {
   "cell_type": "markdown",
   "metadata": {},
   "source": [
    "## MODELOS\n",
    "### Preproceso Modelos"
   ]
  },
  {
   "cell_type": "code",
   "execution_count": 22,
   "metadata": {
    "collapsed": true
   },
   "outputs": [],
   "source": [
    "def frecuentes(df_ejemplos,corte):\n",
    "    # Filtrado Clases mas usadas .Hay muchas clases con pocos ejemplos, entonces establecemos un minimo\n",
    "    df_frecuente=df_ejemplos.clase.value_counts() \n",
    "    df_frecuente=df_frecuente[df_ejemplos.clase.value_counts()>corte]\n",
    "    return df_ejemplos[df_ejemplos.clase.isin(df_frecuente.index)]"
   ]
  },
  {
   "cell_type": "code",
   "execution_count": 23,
   "metadata": {
    "collapsed": true
   },
   "outputs": [],
   "source": [
    "def mas_catalogo(df_ejemplos,df_catalogo):\n",
    "    df_mas_catalogo=df_ejemplos.copy()     \n",
    "    for iclase in np.unique(df_ejemplos.clase): \n",
    "        df_clase = df_catalogo[df_catalogo['clase'] == iclase]           \n",
    "        df_mas_catalogo = pd.concat([df_mas_catalogo, df_clase])\n",
    "    return df_mas_catalogo"
   ]
  },
  {
   "cell_type": "code",
   "execution_count": 24,
   "metadata": {},
   "outputs": [],
   "source": [
    "def balance_clases(df_ejemplos):\n",
    "    df_balanceado=df_ejemplos.copy()\n",
    "    #ejemplos=df_ejemplos.clase.value_counts().max()\n",
    "    ejemplos = 30\n",
    "    for iclase in np.unique(df_ejemplos.clase): \n",
    "        df_clase = df_ejemplos[df_ejemplos['clase'] == iclase]\n",
    "        if df_clase.shape[0]<ejemplos :\n",
    "            df_clase_artificial = df_clase.sample(n=(ejemplos-len(df_clase)), replace=True ,random_state=1)   \n",
    "            df_balanceado = pd.concat([df_balanceado, df_clase_artificial])\n",
    "        else:\n",
    "            df_balanceado = pd.concat([df_balanceado, df_clase])\n",
    "    return df_balanceado"
   ]
  },
  {
   "cell_type": "code",
   "execution_count": 25,
   "metadata": {},
   "outputs": [],
   "source": [
    "def prepara_ejemplos(df_ejemplos):\n",
    "    df_ejemplos = mas_catalogo(df_ejemplos,corpus_textos_cat)\n",
    "    df_ejemplos = mas_catalogo(df_ejemplos,corpus_textos_cie9)\n",
    "    #df_ejemplos = balance_clases(df_ejemplos)\n",
    "    return df_ejemplos"
   ]
  },
  {
   "cell_type": "code",
   "execution_count": 26,
   "metadata": {
    "collapsed": true
   },
   "outputs": [],
   "source": [
    "df_copia=corpus_textos_df.copy()"
   ]
  },
  {
   "cell_type": "markdown",
   "metadata": {},
   "source": [
    "### Filtrado vista minable"
   ]
  },
  {
   "cell_type": "code",
   "execution_count": 201,
   "metadata": {},
   "outputs": [],
   "source": [
    "#Ejemplo de preparacion \n",
    "#df_balance = prepara_ejemplos(corpus_textos_df)\n",
    "#Quitamos los no significativos\n",
    "corte = 30\n",
    "corpus_textos_df = frecuentes(df_copia,corte)"
   ]
  },
  {
   "cell_type": "code",
   "execution_count": 202,
   "metadata": {},
   "outputs": [
    {
     "data": {
      "text/plain": [
       "count     1516\n",
       "unique      16\n",
       "top        428\n",
       "freq       222\n",
       "Name: clase, dtype: object"
      ]
     },
     "execution_count": 202,
     "metadata": {},
     "output_type": "execute_result"
    }
   ],
   "source": [
    "corpus_textos_df.clase.describe(include=['O'])"
   ]
  },
  {
   "cell_type": "code",
   "execution_count": 203,
   "metadata": {},
   "outputs": [
    {
     "name": "stdout",
     "output_type": "stream",
     "text": [
      "Nº de palabras del corpus 6852\n",
      "Nº de palabras del vocabulario 1284\n"
     ]
    },
    {
     "data": {
      "image/png": "[encoded data removed]",
      "text/plain": [
       "<matplotlib.figure.Figure at 0x7fa410eba208>"
      ]
     },
     "metadata": {},
     "output_type": "display_data"
    }
   ],
   "source": [
    "fdist = acumula_fdist(corpus_textos_df.words)\n",
    "print ('Nº de palabras del corpus',fdist.N())\n",
    "print ('Nº de palabras del vocabulario',len(fdist.keys()))\n",
    "fdist.plot(30)"
   ]
  },
  {
   "cell_type": "code",
   "execution_count": 32,
   "metadata": {},
   "outputs": [],
   "source": [
    "#corpus_textos_df.clase.value_counts(sort=True, ascending=False, bins=None, dropna=True)"
   ]
  },
  {
   "cell_type": "code",
   "execution_count": 33,
   "metadata": {},
   "outputs": [],
   "source": [
    "#corpus_textos_df.clase.value_counts(sort=True, ascending=False, bins=None, dropna=True)"
   ]
  },
  {
   "cell_type": "markdown",
   "metadata": {},
   "source": [
    "### Modelo Hard  y validacion cruzada"
   ]
  },
  {
   "cell_type": "code",
   "execution_count": 204,
   "metadata": {
    "collapsed": true
   },
   "outputs": [],
   "source": [
    "#Hacemos encoding a la columna 'clase' a un formato numerico\n",
    "le = LabelEncoder()\n",
    "l_clases = le.fit_transform(corpus_textos_df['clase'])\n",
    "clases  = le.classes_\n",
    "nclases = le.transform(clases)\n",
    "#np.bincount(y_test).size\n",
    "#le.inverse_transform(nclases)"
   ]
  },
  {
   "cell_type": "code",
   "execution_count": 37,
   "metadata": {
    "collapsed": true
   },
   "outputs": [],
   "source": [
    "#Grabar para exportar a otras herramientas\n",
    "#df_XY=pd.DataFrame(np.hstack((X_set,corpus_textos_df.clase[:, np.newaxis])))\n",
    "#df_XY.to_csv('XY_ldr30.csv',index=False, header=True)"
   ]
  },
  {
   "cell_type": "markdown",
   "metadata": {},
   "source": [
    "### Algoritmos estilo extendido"
   ]
  },
  {
   "cell_type": "code",
   "execution_count": 205,
   "metadata": {},
   "outputs": [],
   "source": [
    "vec = TfidfVectorizer(analyzer = 'word',min_df=2,binary=False,tokenizer = my_tokenize,max_features = 4000 )\n",
    "cls = SVC(probability = True,decision_function_shape='ovo')"
   ]
  },
  {
   "cell_type": "markdown",
   "metadata": {},
   "source": [
    "##### Validacion cruzada"
   ]
  },
  {
   "cell_type": "code",
   "execution_count": 206,
   "metadata": {},
   "outputs": [
    {
     "name": "stdout",
     "output_type": "stream",
     "text": [
      "Seleccion corte >  30  , NºEjemplos : 1516  ,Nº Clases : 16 \n",
      "\n",
      "Modelo  SVC(C=1.0, cache_size=200, class_weight=None, coef0=0.0,\n",
      "  decision_function_shape='ovo', degree=3, gamma='auto', kernel='rbf',\n",
      "  max_iter=-1, probability=True, random_state=None, shrinking=True,\n",
      "  tol=0.001, verbose=False)  \n",
      "\n",
      "LDR, Validacion Cruzada .Nº caracteristicas 96. .Global Accuracy: 0.55 (+/- 0.05) . 13.0064313412 segundos.\n",
      "\n"
     ]
    }
   ],
   "source": [
    "tiempo_ini = time.time()\n",
    "\n",
    "df_probas = pd.DataFrame()\n",
    "scores =[]\n",
    "kf = KFold(n_splits=5, shuffle=True, random_state=3)\n",
    "print(\"Seleccion corte > \",corte,\" , NºEjemplos :\" ,corpus_textos_df.shape[0],\" ,Nº Clases :\" ,len(corpus_textos_df.clase.unique()),\"\\n\")\n",
    "print(\"Modelo \",cls,\" \\n\")\n",
    "\n",
    "for train_index, test_index in kf.split(corpus_textos_df):            \n",
    "    # Separamos los conjuntos de Entrenamiento y Test  \n",
    "    df_train = corpus_textos_df.iloc[train_index]\n",
    "    df_test  = corpus_textos_df.iloc[test_index]\n",
    "            \n",
    "    tfidf_train_denso = vec.fit_transform(df_train.texto)# Vectorizar TF-IDF\n",
    "    X_train,Wtc = fit_transform_ldr(df_train,tfidf_train_denso.toarray())# Vectorizar LDR\n",
    "    \n",
    "    y_train = df_train.clase       \n",
    "    scaler = StandardScaler().fit(X_train)\n",
    "    X_train = scaler.transform(X_train)# Noramliza     \n",
    "    cls.fit( X_train, y_train)# Entrena\n",
    "        \n",
    "    tfidf_test_denso = vec.transform(df_test.texto.values)#Vectoriza tfidf textos con las caracteristicas del Train\n",
    "    X_test = transform_ldr(tfidf_test_denso.toarray() ,Wtc ,df_test.Td.values )# Vectoriza(reduce dimensionalidad) con LDR \n",
    "    X_test = scaler.transform(X_test)# Noramliza      \n",
    "    y_test = df_test.clase    \n",
    "    scores.append(cls.score(X_test, y_test))# Evalua\n",
    "    \n",
    "    pred_prob = cls.predict_proba(X_test)# Prediccion con probabilidades\n",
    "    df_probas = pd.concat([df_probas, (pd.DataFrame(pred_prob, columns = clases, index= test_index ))])\n",
    "    \n",
    "print(\"LDR, Validacion Cruzada .Nº caracteristicas %d. .Global Accuracy: %0.2f (+/- %0.2f) . %0.10f segundos.\\n\" \n",
    "      % (X_train.shape[1],np.mean(scores), np.std(scores) * 2,(time.time() - tiempo_ini)))"
   ]
  },
  {
   "cell_type": "markdown",
   "metadata": {},
   "source": [
    "#### Top de Probabilidades"
   ]
  },
  {
   "cell_type": "code",
   "execution_count": 207,
   "metadata": {},
   "outputs": [
    {
     "name": "stdout",
     "output_type": "stream",
     "text": [
      "TOP DE PROBABILIDADES DE PRDICCIONES \n",
      " 1.0     54.617414\n",
      "2.0     71.306069\n",
      "3.0     77.836412\n",
      "4.0     82.387863\n",
      "5.0     85.686016\n",
      "6.0     87.730871\n",
      "7.0     89.643799\n",
      "8.0     91.886544\n",
      "9.0     93.205805\n",
      "10.0    94.986807\n",
      "Name: top, dtype: float64\n"
     ]
    }
   ],
   "source": [
    "#Probabilidad  con division\n",
    "df_top = probabilidades(df_probas,corpus_textos_df)"
   ]
  },
  {
   "cell_type": "code",
   "execution_count": 154,
   "metadata": {
    "collapsed": true
   },
   "outputs": [],
   "source": [
    "def probabilidades(df_probas,dfx):\n",
    "    df_probabilidad=df_probas.copy()\n",
    "    corpus_textos_test=dfx.copy()\n",
    "    #Pivotamos para hacer el join\n",
    "    df_probabilidad = df_probabilidad.unstack().reset_index()\n",
    "    df_probabilidad.columns=['prediccion','id_diag','confianza']\n",
    "    #df_probabilidad.query('confianza>0.0')\n",
    "    #Preparamos la matriz de textos\n",
    "    corpus_textos_test = corpus_textos_test.filter(items=['clase','texto'])\n",
    "    #corpus_textos_test = corpus_textos_test.drop('iejemplo',axis = 1)\n",
    "    corpus_textos_test = corpus_textos_test.reset_index()\n",
    "    corpus_textos_test = corpus_textos_test.rename(columns = {'index':'ejemplo'})\n",
    "    corpus_textos_test = corpus_textos_test.reset_index()\n",
    "    corpus_textos_test = corpus_textos_test.rename(columns = {'index':'id_diag'})\n",
    "    #Hacemos el Join de las probabilidades con los textos\n",
    "    df_result = pd.merge(corpus_textos_test, df_probabilidad, how='inner', on=['id_diag', 'id_diag'])\n",
    "    df_result = df_result.filter(items=['id_diag','texto','clase','prediccion','confianza'])\n",
    "    df_result['top'] = df_result.groupby(['id_diag'])['confianza'].rank(ascending=False)\n",
    "    total=len(df_result['id_diag'].unique())\n",
    "    df_top=df_result.query('clase == prediccion')\n",
    "    df_top=df_top['top'].value_counts()\n",
    "    df_top.sort_index(inplace=True)\n",
    "    df_top=(df_top.cumsum()/total)*100\n",
    "    df_top=df_top.head(10)\n",
    "    print ('TOP DE PROBABILIDADES DE PRDICCIONES \\n',df_top)\n",
    "    #DATOS GUARDAR TOP\n",
    "    df_top=df_top.reset_index()\n",
    "    df_top = df_top.rename(columns = {'index':'top_acc'})\n",
    "    df_top = df_top.rename(columns = {'top':'accuracy'})\n",
    "    return df_top"
   ]
  },
  {
   "cell_type": "markdown",
   "metadata": {},
   "source": [
    "##### Division en Train y Test"
   ]
  },
  {
   "cell_type": "code",
   "execution_count": 191,
   "metadata": {},
   "outputs": [
    {
     "name": "stdout",
     "output_type": "stream",
     "text": [
      "Train-Split  .Nº caracteristicas 96. Global accuracy : 0.60 \n",
      "\n"
     ]
    }
   ],
   "source": [
    "dx_train, dx_test, dy_train, dy_test = train_test_split(corpus_textos_df, corpus_textos_df\n",
    "                                                        , test_size=0.2, random_state=3)        \n",
    "\n",
    "tfidf_train_denso = vec.fit_transform(dx_train.texto.values)#Vector tfidf  \n",
    "X_train,Wtc = fit_transform_ldr(dx_train,tfidf_train_denso.toarray())# Vectorizar\n",
    "\n",
    "scaler = StandardScaler().fit(X_train)\n",
    "X_train = scaler.transform(X_train)# Noramliza  \n",
    "\n",
    "cls.fit( X_train, dy_train.clase)# Entrena\n",
    "\n",
    "\n",
    "tfidf_test_denso = vec.transform(dx_test.texto)#Vectoriza tfidf textos con las caracteristicas del Train\n",
    "X_test = transform_ldr(tfidf_test_denso.toarray() ,Wtc ,dx_test.Td.values )# Vectoriza(reduce dimensionalidad) con LDR\n",
    "\n",
    "X_test = scaler.transform(X_test)# Noramliza      \n",
    "\n",
    "scores = cls.score(X_test, dy_test.clase)# Evalua\n",
    "print(\"Train-Split  .Nº caracteristicas %d. Global accuracy : %0.2f \\n\" % (X_train.shape[1],scores))"
   ]
  },
  {
   "cell_type": "code",
   "execution_count": 160,
   "metadata": {},
   "outputs": [
    {
     "name": "stdout",
     "output_type": "stream",
     "text": [
      "TOP DE PROBABILIDADES DE PRDICCIONES \n",
      " 1.0     14.473684\n",
      "2.0     20.723684\n",
      "3.0     30.263158\n",
      "4.0     35.526316\n",
      "5.0     41.118421\n",
      "6.0     46.052632\n",
      "7.0     52.960526\n",
      "8.0     60.197368\n",
      "9.0     66.447368\n",
      "10.0    74.671053\n",
      "Name: top, dtype: float64\n"
     ]
    }
   ],
   "source": [
    "#Probabilidad  con division\n",
    "predicted = cls.predict_proba(X_test)\n",
    "df_probabilidad = pd.DataFrame(predicted, columns=clases)\n",
    "df_top = probabilidades(df_probabilidad,corpus_textos_df)"
   ]
  },
  {
   "cell_type": "code",
   "execution_count": 36,
   "metadata": {
    "collapsed": true
   },
   "outputs": [],
   "source": [
    "#DATOS GUARDAR ESTUDIO\n",
    "d_estudio.update ({'corte': corte})\n",
    "d_estudio.update ({'sclases': len(corpus_textos_df.clase.unique())})\n",
    "d_estudio.update ({'sejemplos': X_set.shape[0]})\n",
    "d_estudio.update ({'sfeatures': X_set.shape[1]})"
   ]
  },
  {
   "cell_type": "code",
   "execution_count": null,
   "metadata": {
    "collapsed": true
   },
   "outputs": [],
   "source": [
    "### Weka\n",
    "Test mode:5-fold cross-validation\n",
    "\n",
    "=== Classifier model (full training set) ===\n",
    "\n",
    "Gaussian Processes\n",
    "\n",
    "Kernel used:\n",
    "  RBF kernel: K(x,y) = e^-(1.0* <x-y,x-y>^2)\n",
    "\n",
    "Average Target Value : 477.6592941952589\n",
    "Inverted Covariance Matrix:\n",
    "    Lowest Value = -0.32784477604292345\n",
    "    Highest Value = 0.9836470375323547\n",
    "Inverted Covariance Matrix * Target-value Vector:\n",
    "    Lowest Value = -290.5606600616332\n",
    "    Highest Value = 220.08957456421786\n",
    " \n",
    "\n",
    "\n",
    "Time taken to build model: 14.34 seconds\n",
    "\n",
    "=== Cross-validation ===\n",
    "=== Summary ===\n",
    "\n",
    "Correlation coefficient                  0.8521\n",
    "Mean absolute error                     19.0026\n",
    "Root mean squared error                 43.4301\n",
    "Relative absolute error                 40.8794 %\n",
    "Root relative squared error             53.3674 %\n",
    "Total Number of Instances             1516   "
   ]
  },
  {
   "cell_type": "code",
   "execution_count": 33,
   "metadata": {
    "collapsed": true
   },
   "outputs": [],
   "source": [
    "clf = SVC(probability = True,decision_function_shape='ovo')\n",
    "cls = MultinomialNB()"
   ]
  },
  {
   "cell_type": "code",
   "execution_count": 39,
   "metadata": {},
   "outputs": [
    {
     "name": "stdout",
     "output_type": "stream",
     "text": [
      "Validacion cruzada: 0.73 (+/- 0.05)\n",
      "\n"
     ]
    }
   ],
   "source": [
    "scores=cross_val_score(cls, X_set, y_set, cv=5)\n",
    "print(\"Validacion cruzada: %0.2f (+/- %0.2f)\\n\" % (np.mean(scores), np.std(scores) * 2))"
   ]
  },
  {
   "cell_type": "code",
   "execution_count": 40,
   "metadata": {
    "collapsed": true
   },
   "outputs": [],
   "source": [
    "#DATOS GUARDAR ESTUDIO\n",
    "d_estudio.update ({'modelo': 'MultinomialNB'})\n",
    "d_estudio.update ({'mparametros': ' '})\n",
    "d_estudio.update ({'evaluacion': 'CV=5'})\n",
    "d_estudio.update ({'etipo': 'cross_val_score'})\n",
    "d_estudio.update ({'accuracy': np.mean(scores) })\n",
    "d_estudio.update ({'top_prob': np.NaN})\n",
    "df_estudio=add_estudio(d_estudio,df_estudio)# Grabar despoes de nuevo dato"
   ]
  },
  {
   "cell_type": "code",
   "execution_count": 41,
   "metadata": {},
   "outputs": [
    {
     "data": {
      "text/plain": [
       "0.78618421052631582"
      ]
     },
     "execution_count": 41,
     "metadata": {},
     "output_type": "execute_result"
    }
   ],
   "source": [
    "#Esta sobreajustado vectoriza con todo MultinomialNB\n",
    "X_train, X_test, y_train, y_test = train_test_split(X_set, y_set, test_size=0.2, random_state=3)\n",
    "cls.fit( X_train, y_train)# Entrena\n",
    "# Realizamos predicciones sobre los datos de prueba Modelo GaussianNB\n",
    "#predictions = cls.predict(X_test)\n",
    "# Y validamos las predicciones de las pruebas vs los valores reales\n",
    "#print(metrics.classification_report(y_test, predictions, target_names=clases))\n",
    "cls.score(X_test, y_test)"
   ]
  },
  {
   "cell_type": "code",
   "execution_count": 42,
   "metadata": {
    "collapsed": true
   },
   "outputs": [],
   "source": [
    "#DATOS GUARDAR ESTUDIO\n",
    "d_estudio.update ({'modelo': 'MultinomialNB'})\n",
    "d_estudio.update ({'mparametros': ' '})\n",
    "d_estudio.update ({'evaluacion': 'S=0.2'})\n",
    "d_estudio.update ({'etipo': 'train_test_split'})\n",
    "d_estudio.update ({'accuracy': cls.score(X_test, y_test) })                              \n",
    "df_estudio=add_estudio(d_estudio,df_estudio)# Grabar despoes de nuevo dato"
   ]
  },
  {
   "cell_type": "code",
   "execution_count": 43,
   "metadata": {},
   "outputs": [
    {
     "data": {
      "text/plain": [
       "0.79934210526315785"
      ]
     },
     "execution_count": 43,
     "metadata": {},
     "output_type": "execute_result"
    }
   ],
   "source": [
    "# Normalizando SVM\n",
    "scaler = StandardScaler().fit(X_train)\n",
    "X_train_transformed = scaler.transform(X_train)\n",
    "clf.fit(X_train_transformed, y_train)\n",
    "X_test_transformed = scaler.transform(X_test)\n",
    "#predi_transformed = clf.predict(X_test)\n",
    "clf.score(X_test_transformed, y_test)  \n",
    "#print(metrics.classification_report(y_test, predi_transformed, target_names=clases))"
   ]
  },
  {
   "cell_type": "code",
   "execution_count": 44,
   "metadata": {
    "collapsed": true
   },
   "outputs": [],
   "source": [
    "#DATOS GUARDAR ESTUDIO\n",
    "d_estudio.update ({'modelo': 'SVC'})\n",
    "d_estudio.update ({'mparametros': 'probability = True,decision_function_shape=ovo'})\n",
    "d_estudio.update ({'evaluacion': 'S=0.2 StandardScaler'})\n",
    "d_estudio.update ({'etipo': 'train_test_split'})\n",
    "d_estudio.update ({'accuracy': clf.score(X_test_transformed, y_test) })                              \n",
    "df_estudio=add_estudio(d_estudio,df_estudio)# Grabar despoes de nuevo dato"
   ]
  },
  {
   "cell_type": "markdown",
   "metadata": {},
   "source": [
    "### Modelo Soft y validacion cruzada"
   ]
  },
  {
   "cell_type": "code",
   "execution_count": 20,
   "metadata": {},
   "outputs": [
    {
     "name": "stdout",
     "output_type": "stream",
     "text": [
      "Seleccion corte >  30  \n",
      " Clases : 16 \n",
      "\n",
      "Modelo  SVC(C=1.0, cache_size=200, class_weight=None, coef0=0.0,\n",
      "  decision_function_shape='ovo', degree=3, gamma='auto', kernel='rbf',\n",
      "  max_iter=-1, probability=True, random_state=None, shrinking=True,\n",
      "  tol=0.001, verbose=False)  \n",
      " Dataset : (1516, 4) \n",
      "\n",
      "TRAIN: (1242, 96) TEST: (304, 96) Kfold Accuracy. 0.480263157895 Kfold  6.9158351421 segundos.\n",
      "\n",
      "TRAIN: (1243, 96) TEST: (303, 96) Kfold Accuracy. 0.478547854785 Kfold  13.9380669594 segundos.\n",
      "\n",
      "TRAIN: (1243, 96) TEST: (303, 96) Kfold Accuracy. 0.468646864686 Kfold  20.7323806286 segundos.\n",
      "\n",
      "TRAIN: (1243, 96) TEST: (303, 96) Kfold Accuracy. 0.419141914191 Kfold  27.6322515011 segundos.\n",
      "\n",
      "TRAIN: (1243, 96) TEST: (303, 96) Kfold Accuracy. 0.488448844884 Kfold  34.4392089844 segundos.\n",
      "\n",
      "Global Accuracy: 0.47 (+/- 0.05)\n",
      "\n",
      "Vectoriza con LDR,Validacion Cruzada  34.4398167133 segundos.\n"
     ]
    }
   ],
   "source": [
    "#Division por pliegues\n",
    "\n",
    "#Separamos y vectorizamos el texto como entrada de Train\n",
    "tiempo_ini = time.time()\n",
    "\n",
    "#Hacemos encoding a la columna 'clase' a un formato numerico\n",
    "le = LabelEncoder()\n",
    "l_clases = le.fit_transform(corpus_textos_df['clase'])\n",
    "clases  = le.classes_\n",
    "nclases = le.transform(clases)\n",
    "\n",
    "\n",
    "cls = SVC(probability = True,decision_function_shape='ovo')#hiperparametros\n",
    "\n",
    "scores =[]\n",
    "df_probas = pd.DataFrame()\n",
    "\n",
    "kf = KFold(n_splits=5, shuffle=True, random_state=3)\n",
    "print(\"Seleccion corte > \",corte,\" \\n Clases :\" ,len(clases),\"\\n\")\n",
    "print(\"Modelo \",cls,\" \\n Dataset :\" ,corpus_textos_df.shape,\"\\n\")\n",
    "\n",
    "for train_index, test_index in kf.split(corpus_textos_df):\n",
    "    \n",
    "        \n",
    "    # Separamos los conjuntos de Entrenamiento y Test  \n",
    "    df_train = prepara_ejemplos(corpus_textos_df.iloc[train_index])\n",
    "    df_test  = corpus_textos_df.iloc[test_index]\n",
    "            \n",
    "    X_train,Wtc,vec = vector_ldr(df_train)# Vectorizar\n",
    "    y_train = le.transform(df_train['clase'])#Encoding\n",
    "     \n",
    "    #X_train = scaler.transform(X_train)# Noramliza    \n",
    "    cls.fit( X_train, y_train)# Entrena\n",
    "    \n",
    "    #Vectoriza tfidf textos con los pesos del tranin\n",
    "    tfidf_test_denso = vec.transform(df_test.texto.values)\n",
    "    #Vectoriza LDR textos con los pesos del tranin\n",
    "    X_test = transform_ldr(tfidf_test_denso.toarray() ,Wtc ,df_test.Td.values)#Vectorizar\n",
    "    y_test = le.transform(df_test['clase'])#Encoding\n",
    "    \n",
    "    #X_test = scaler.transform(X_test)# Noramliza\n",
    "    scores.append(cls.score(X_test, y_test))# Evalua\n",
    "    \n",
    "    pred_prob = cls.predict_proba(X_test)\n",
    "    df_probas = pd.concat([df_probas, (pd.DataFrame(pred_prob, columns = clases, index= test_index ))])\n",
    "    \n",
    "    print(\"TRAIN:\", X_train.shape, \"TEST:\", X_test.shape\n",
    "          ,\"Kfold Accuracy.\" ,  scores[-1]\n",
    "          ,\"Kfold  %0.10f segundos.\\n\" %  (time.time() - tiempo_ini)\n",
    "          )   \n",
    "    \n",
    "print(\"Global Accuracy: %0.2f (+/- %0.2f)\\n\" % (np.mean(scores), np.std(scores) * 2))\n",
    "print(\"Vectoriza con LDR,Validacion Cruzada  %0.10f segundos.\" %  (time.time() - tiempo_ini))  "
   ]
  },
  {
   "cell_type": "code",
   "execution_count": 35,
   "metadata": {
    "collapsed": true
   },
   "outputs": [],
   "source": [
    "# Y validamos las predicciones de las pruebas vs los valores reales\n",
    "#np.mean(predictions.ravel() == Y_test.ravel()) * 100\n",
    "#np.mean(predictions == Y_test)\n",
    "#scores = cross_val_score(clf, X_test, iris.target, cv=5)\n",
    "#print(\"Accuracy: %0.2f (+/- %0.2f)\" % (scores.mean(), scores.std() * 2))\n",
    "#print(\"Accuracy_score = \",metrics.accuracy_score(y_test, predict_cls))"
   ]
  },
  {
   "cell_type": "markdown",
   "metadata": {
    "collapsed": true
   },
   "source": [
    "## INTEGRACION\n",
    "### Presentacion resultados"
   ]
  },
  {
   "cell_type": "code",
   "execution_count": 21,
   "metadata": {},
   "outputs": [
    {
     "data": {
      "text/html": [
       "<div>\n",
       "<table border=\"1\" class=\"dataframe\">\n",
       "  <thead>\n",
       "    <tr style=\"text-align: right;\">\n",
       "      <th></th>\n",
       "      <th>id_diag</th>\n",
       "      <th>confianza</th>\n",
       "    </tr>\n",
       "  </thead>\n",
       "  <tbody>\n",
       "    <tr>\n",
       "      <th>count</th>\n",
       "      <td>24256.00000</td>\n",
       "      <td>24256.000000</td>\n",
       "    </tr>\n",
       "    <tr>\n",
       "      <th>mean</th>\n",
       "      <td>757.50000</td>\n",
       "      <td>0.062500</td>\n",
       "    </tr>\n",
       "    <tr>\n",
       "      <th>std</th>\n",
       "      <td>437.64043</td>\n",
       "      <td>0.152008</td>\n",
       "    </tr>\n",
       "    <tr>\n",
       "      <th>min</th>\n",
       "      <td>0.00000</td>\n",
       "      <td>0.000029</td>\n",
       "    </tr>\n",
       "    <tr>\n",
       "      <th>25%</th>\n",
       "      <td>378.75000</td>\n",
       "      <td>0.005184</td>\n",
       "    </tr>\n",
       "    <tr>\n",
       "      <th>50%</th>\n",
       "      <td>757.50000</td>\n",
       "      <td>0.015348</td>\n",
       "    </tr>\n",
       "    <tr>\n",
       "      <th>75%</th>\n",
       "      <td>1136.25000</td>\n",
       "      <td>0.040644</td>\n",
       "    </tr>\n",
       "    <tr>\n",
       "      <th>max</th>\n",
       "      <td>1515.00000</td>\n",
       "      <td>0.994813</td>\n",
       "    </tr>\n",
       "  </tbody>\n",
       "</table>\n",
       "</div>"
      ],
      "text/plain": [
       "           id_diag     confianza\n",
       "count  24256.00000  24256.000000\n",
       "mean     757.50000      0.062500\n",
       "std      437.64043      0.152008\n",
       "min        0.00000      0.000029\n",
       "25%      378.75000      0.005184\n",
       "50%      757.50000      0.015348\n",
       "75%     1136.25000      0.040644\n",
       "max     1515.00000      0.994813"
      ]
     },
     "execution_count": 21,
     "metadata": {},
     "output_type": "execute_result"
    }
   ],
   "source": [
    "df_probabilidad=df_probas.copy()\n",
    "corpus_textos_test=corpus_textos_df.copy()\n",
    "#Pivotamos para hacer el join\n",
    "df_probabilidad = df_probabilidad.unstack().reset_index()\n",
    "df_probabilidad.columns=['prediccion','id_diag','confianza']\n",
    "#df_probabilidad.query('confianza>0.0')\n",
    "df_probabilidad.describe()"
   ]
  },
  {
   "cell_type": "code",
   "execution_count": 26,
   "metadata": {},
   "outputs": [],
   "source": [
    "#Preparamos la matriz de textos\n",
    "corpus_textos_test = corpus_textos_test.filter(items=['clase','texto'])\n",
    "#corpus_textos_test = corpus_textos_test.drop('iejemplo',axis = 1)\n",
    "corpus_textos_test = corpus_textos_test.reset_index()\n",
    "corpus_textos_test = corpus_textos_test.rename(columns = {'index':'ejemplo'})\n",
    "corpus_textos_test = corpus_textos_test.reset_index()\n",
    "corpus_textos_test = corpus_textos_test.rename(columns = {'index':'id_diag'})\n",
    "#Hacemos el Join de las probabilidades con los textos\n",
    "df_result = pd.merge(corpus_textos_test, df_probabilidad, how='inner', on=['id_diag', 'id_diag'])"
   ]
  },
  {
   "cell_type": "markdown",
   "metadata": {},
   "source": [
    "### Top de aciertos."
   ]
  },
  {
   "cell_type": "code",
   "execution_count": 27,
   "metadata": {},
   "outputs": [],
   "source": [
    "#df_result = df_result.query('confianza>0.05')\n",
    "df_result = df_result.filter(items=['id_diag','texto','clase','prediccion','confianza'])\n",
    "df_result['top'] = df_result.groupby(['id_diag'])['confianza'].rank(ascending=False)\n",
    "total=len(df_result['id_diag'].unique())\n",
    "df_top=df_result.query('clase == prediccion')\n",
    "df_top=df_top['top'].value_counts()\n",
    "df_top.sort_index(inplace=True)\n",
    "#df_top=df_top.sort_values(ascending=False)"
   ]
  },
  {
   "cell_type": "code",
   "execution_count": 28,
   "metadata": {},
   "outputs": [
    {
     "data": {
      "text/plain": [
       "1.0     51.912929\n",
       "2.0     70.514512\n",
       "3.0     77.638522\n",
       "4.0     81.926121\n",
       "5.0     85.554090\n",
       "6.0     87.796834\n",
       "7.0     89.973615\n",
       "8.0     91.160950\n",
       "9.0     92.414248\n",
       "10.0    94.063325\n",
       "Name: top, dtype: float64"
      ]
     },
     "execution_count": 28,
     "metadata": {},
     "output_type": "execute_result"
    }
   ],
   "source": [
    "#TOP Doc2Vec\n",
    "df_top=(df_top.cumsum()/total)*100\n",
    "df_top=df_top.head(10)\n",
    "df_top"
   ]
  },
  {
   "cell_type": "code",
   "execution_count": 29,
   "metadata": {
    "collapsed": true
   },
   "outputs": [],
   "source": [
    "#DATOS GUARDAR TOP\n",
    "df_top=df_top.reset_index()\n",
    "df_top = df_top.rename(columns = {'index':'top_acc'})\n",
    "df_top = df_top.rename(columns = {'top':'accuracy'})\n",
    "df_top['clasificador'] = 'idc.ml.ldr'\n",
    "df_top.to_csv('top_ldr.csv',header=True, mode='w',index=False)"
   ]
  },
  {
   "cell_type": "code",
   "execution_count": 40,
   "metadata": {
    "collapsed": true
   },
   "outputs": [],
   "source": [
    "#DATOS GUARDAR ESTUDIO\n",
    "d_estudio.update ({'modelo': 'SVC'})\n",
    "d_estudio.update ({'mparametros': 'probability = True,decision_function_shape=ovo'})\n",
    "d_estudio.update ({'evaluacion': 'CV=5'})\n",
    "d_estudio.update ({'etipo': 'KFold'})\n",
    "d_estudio.update ({'accuracy': np.mean(scores) })\n",
    "d_estudio.update ({'top_prob': df_top.values })\n",
    "df_estudio=add_estudio(d_estudio,df_estudio)# Grabar despoes de nuevo dato"
   ]
  },
  {
   "cell_type": "code",
   "execution_count": 44,
   "metadata": {},
   "outputs": [],
   "source": [
    "df_top.columns=['top','accuracy']\n",
    "df_top['clasificador'] = 'idc.ml.ldr'\n",
    "df_top.to_csv('df_top_ldr.csv',header=True, mode='w',index=False)"
   ]
  },
  {
   "cell_type": "code",
   "execution_count": 124,
   "metadata": {},
   "outputs": [],
   "source": [
    "#df_estudio =df_estudio[columnas]\n",
    "#df_estudio.tail()\n",
    "#df_estudio"
   ]
  },
  {
   "cell_type": "code",
   "execution_count": null,
   "metadata": {
    "collapsed": true
   },
   "outputs": [],
   "source": [
    "df_estudio_ant = pd.read_csv('estudios.csv')\n",
    "#df_estudio_ant.tail(1)\n",
    "columnas=df_estudio_ant.columns\n",
    "print ('Columnas estudio:',columnas)"
   ]
  },
  {
   "cell_type": "code",
   "execution_count": null,
   "metadata": {
    "collapsed": true
   },
   "outputs": [],
   "source": [
    "#columnas"
   ]
  },
  {
   "cell_type": "code",
   "execution_count": 123,
   "metadata": {
    "collapsed": true
   },
   "outputs": [],
   "source": [
    "#df_estudio.to_csv('estudios.csv',header=False, mode='a',columns=columnas,index=False)\n",
    "df_estudio.to_csv('accuracy_ldr.csv',header=True, mode='w',columns=columnas,index=False)"
   ]
  },
  {
   "cell_type": "code",
   "execution_count": 45,
   "metadata": {},
   "outputs": [
    {
     "data": {
      "text/html": [
       "<div>\n",
       "<table border=\"1\" class=\"dataframe\">\n",
       "  <thead>\n",
       "    <tr style=\"text-align: right;\">\n",
       "      <th></th>\n",
       "      <th>id_diag</th>\n",
       "      <th>texto</th>\n",
       "      <th>clase</th>\n",
       "      <th>prediccion</th>\n",
       "      <th>confianza</th>\n",
       "      <th>top</th>\n",
       "    </tr>\n",
       "  </thead>\n",
       "  <tbody>\n",
       "    <tr>\n",
       "      <th>0</th>\n",
       "      <td>0</td>\n",
       "      <td>NEUMONIA EN PACIENTE VIH</td>\n",
       "      <td>42</td>\n",
       "      <td>411.1</td>\n",
       "      <td>0.009699</td>\n",
       "      <td>15.0</td>\n",
       "    </tr>\n",
       "    <tr>\n",
       "      <th>1</th>\n",
       "      <td>0</td>\n",
       "      <td>NEUMONIA EN PACIENTE VIH</td>\n",
       "      <td>42</td>\n",
       "      <td>415.19</td>\n",
       "      <td>0.015960</td>\n",
       "      <td>11.0</td>\n",
       "    </tr>\n",
       "    <tr>\n",
       "      <th>2</th>\n",
       "      <td>0</td>\n",
       "      <td>NEUMONIA EN PACIENTE VIH</td>\n",
       "      <td>42</td>\n",
       "      <td>42</td>\n",
       "      <td>0.326240</td>\n",
       "      <td>1.0</td>\n",
       "    </tr>\n",
       "    <tr>\n",
       "      <th>3</th>\n",
       "      <td>0</td>\n",
       "      <td>NEUMONIA EN PACIENTE VIH</td>\n",
       "      <td>42</td>\n",
       "      <td>428</td>\n",
       "      <td>0.010783</td>\n",
       "      <td>14.0</td>\n",
       "    </tr>\n",
       "    <tr>\n",
       "      <th>4</th>\n",
       "      <td>0</td>\n",
       "      <td>NEUMONIA EN PACIENTE VIH</td>\n",
       "      <td>42</td>\n",
       "      <td>428.1</td>\n",
       "      <td>0.014541</td>\n",
       "      <td>13.0</td>\n",
       "    </tr>\n",
       "  </tbody>\n",
       "</table>\n",
       "</div>"
      ],
      "text/plain": [
       "   id_diag                       texto clase prediccion  confianza   top\n",
       "0        0    NEUMONIA EN PACIENTE VIH    42      411.1   0.009699  15.0\n",
       "1        0    NEUMONIA EN PACIENTE VIH    42     415.19   0.015960  11.0\n",
       "2        0    NEUMONIA EN PACIENTE VIH    42         42   0.326240   1.0\n",
       "3        0    NEUMONIA EN PACIENTE VIH    42        428   0.010783  14.0\n",
       "4        0    NEUMONIA EN PACIENTE VIH    42      428.1   0.014541  13.0"
      ]
     },
     "execution_count": 45,
     "metadata": {},
     "output_type": "execute_result"
    }
   ],
   "source": [
    "df_result.head(5)"
   ]
  },
  {
   "cell_type": "markdown",
   "metadata": {},
   "source": [
    "### Exportar datos"
   ]
  },
  {
   "cell_type": "code",
   "execution_count": 58,
   "metadata": {},
   "outputs": [],
   "source": [
    "#Grabamos el fichero\n",
    "df_result['clasificador'] = 'idc.ml.ldr'\n",
    "df_result.to_csv('ldr.csv',columns=['clasificador','id_diag','clase','prediccion','confianza'],index=False)"
   ]
  },
  {
   "cell_type": "markdown",
   "metadata": {},
   "source": [
    "## FIN"
   ]
  },
  {
   "cell_type": "code",
   "execution_count": null,
   "metadata": {
    "collapsed": true
   },
   "outputs": [],
   "source": []
  }
 ],
 "metadata": {
  "kernelspec": {
   "display_name": "Python 3",
   "language": "python",
   "name": "python3"
  },
  "language_info": {
   "codemirror_mode": {
    "name": "ipython",
    "version": 3
   },
   "file_extension": ".py",
   "mimetype": "text/x-python",
   "name": "python",
   "nbconvert_exporter": "python",
   "pygments_lexer": "ipython3",
   "version": "3.6.2"
  }
 },
 "nbformat": 4,
 "nbformat_minor": 1
}
